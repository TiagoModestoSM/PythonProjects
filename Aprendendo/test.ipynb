{
 "cells": [
  {
   "cell_type": "code",
   "execution_count": null,
   "metadata": {},
   "outputs": [],
   "source": [
    "print('Hello world!')\n",
    "import datetime"
   ]
  },
  {
   "cell_type": "code",
   "execution_count": null,
   "metadata": {},
   "outputs": [],
   "source": [
    "Var = 3 + 4\n",
    "print(Var)"
   ]
  },
  {
   "cell_type": "code",
   "execution_count": null,
   "metadata": {},
   "outputs": [],
   "source": [
    "Var *=4\n",
    "Var"
   ]
  },
  {
   "cell_type": "code",
   "execution_count": null,
   "metadata": {},
   "outputs": [],
   "source": [
    "#TESTE DE CONVERSÃO DE NÚMEROS INTEIROS\n",
    "\n",
    "Test = 0b100\n",
    "print('100 Binary', Test)\n",
    "Test = 0o100\n",
    "print('100 Octal', Test)\n",
    "Test = 100\n",
    "print('100 Decimal', Test)\n",
    "Test = 0x100\n",
    "print('100 Hexadecimal', Test)\n",
    "\n",
    "print(bin(Test))\n",
    "print(oct(Test))\n",
    "print(hex(Test))\n",
    "\n"
   ]
  },
  {
   "cell_type": "code",
   "execution_count": 22,
   "metadata": {},
   "outputs": [
    {
     "name": "stdout",
     "output_type": "stream",
     "text": [
      "111\n"
     ]
    }
   ],
   "source": [
    "print(ord('o'))"
   ]
  },
  {
   "cell_type": "code",
   "execution_count": null,
   "metadata": {},
   "outputs": [],
   "source": [
    "def date_time():\n",
    "    print(str(datetime.datetime.now().date()))"
   ]
  },
  {
   "cell_type": "code",
   "execution_count": null,
   "metadata": {},
   "outputs": [],
   "source": [
    "#TEMPO RESTANTE\n",
    "from datetime import timedelta\n",
    "delta = timedelta(\n",
    "    days=50,\n",
    "    seconds=27,\n",
    "    microseconds=10,\n",
    "    milliseconds=29000,\n",
    "    minutes=5,\n",
    "    hours=8,\n",
    "    weeks=2\n",
    ")\n",
    "delta\n"
   ]
  },
  {
   "cell_type": "code",
   "execution_count": null,
   "metadata": {},
   "outputs": [],
   "source": [
    "#TESTE DE NÚMEROS COMPLEXOS\n",
    "myComplex = 3 + 4j\n",
    "print(myComplex.real)\n",
    "print(myComplex.imag)"
   ]
  },
  {
   "cell_type": "code",
   "execution_count": null,
   "metadata": {},
   "outputs": [
    {
     "name": "stdout",
     "output_type": "stream",
     "text": [
      "Hoje é dia 6/3/2025 e faltam 122 dias para seu aniversário que será dia 6/7/2025\n"
     ]
    }
   ],
   "source": [
    "#FALTAM QUANTOS DIAS PARA SEU ANIVERSÁRIO??\n",
    "\n",
    "import time\n",
    "from datetime import date\n",
    "\n",
    "hoje = date.today()\n",
    "hoje == date.fromtimestamp(time.time())\n",
    "\n",
    "meu_aniversário = date(hoje.year, 7, 6)\n",
    "\n",
    "if meu_aniversário < hoje:\n",
    "    meu_aniversário = meu_aniversário.replace(year = hoje.year+1)\n",
    "meu_aniversário\n",
    "\n",
    "tempo_até_aniversário = (meu_aniversário - hoje)\n",
    "\n",
    "days = 'dias' if tempo_até_aniversário.days > 1 else 'dia'\n",
    "\n",
    "print(f'Hoje é dia {hoje.day}/{hoje.month}/{hoje.year} e faltam {tempo_até_aniversário.days} {days} para seu aniversário que será dia {meu_aniversário.day}/{meu_aniversário.month}/{meu_aniversário.year}')"
   ]
  },
  {
   "cell_type": "code",
   "execution_count": null,
   "metadata": {},
   "outputs": [
    {
     "name": "stdout",
     "output_type": "stream",
     "text": [
      "-0b1\n",
      "-1\n"
     ]
    }
   ],
   "source": [
    "Test = ~0b0\n",
    "print(bin(Test))\n",
    "print(Test)"
   ]
  },
  {
   "cell_type": "code",
   "execution_count": null,
   "metadata": {},
   "outputs": [],
   "source": [
    "Letra = input('escreva uma palavra com menos de 6 letras: ')\n",
    "LetterNum = 1\n",
    "for Letter in Letra:\n",
    "    print('Letter ', LetterNum, 'is', Letter)\n",
    "    LetterNum += 1\n",
    "    if LetterNum > 6:\n",
    "        print('Palavra maior que 6 letras')\n",
    "        break"
   ]
  },
  {
   "cell_type": "code",
   "execution_count": 30,
   "metadata": {},
   "outputs": [
    {
     "name": "stdout",
     "output_type": "stream",
     "text": [
      "Achamos a letra H, ela não deve ser processada\n",
      "Letter  1 is o\n",
      "Letter  2 is w\n",
      "Letter  3 is d\n",
      "Letter  4 is y\n",
      "Letter  5 is !\n"
     ]
    }
   ],
   "source": [
    "LetterNum = 1\n",
    "for Letter in 'Howdy!':\n",
    "    if Letter == chr(72):\n",
    "        pass\n",
    "        print('Achamos a letra H, ela não deve ser processada')\n",
    "        continue\n",
    "    print('Letter ', LetterNum, 'is', Letter)\n",
    "    LetterNum+= 1\n",
    "        "
   ]
  },
  {
   "cell_type": "code",
   "execution_count": 38,
   "metadata": {},
   "outputs": [
    {
     "name": "stdout",
     "output_type": "stream",
     "text": [
      "2\n",
      "4\n"
     ]
    }
   ],
   "source": [
    "Sum = 2\n",
    "while Sum < 10:\n",
    "    print (Sum)\n",
    "    Sum **=2"
   ]
  },
  {
   "cell_type": "code",
   "execution_count": 49,
   "metadata": {},
   "outputs": [
    {
     "name": "stdout",
     "output_type": "stream",
     "text": [
      "        1    2    3    4    5    6    7    8    9   10 \n",
      "   1    1    2    3    4    5    6    7    8    9   10 \n",
      "   2    2    4    6    8   10   12   14   16   18   20 \n",
      "   3    3    6    9   12   15   18   21   24   27   30 \n",
      "   4    4    8   12   16   20   24   28   32   36   40 \n",
      "   5    5   10   15   20   25   30   35   40   45   50 \n",
      "   6    6   12   18   24   30   36   42   48   54   60 \n",
      "   7    7   14   21   28   35   42   49   56   63   70 \n",
      "   8    8   16   24   32   40   48   56   64   72   80 \n",
      "   9    9   18   27   36   45   54   63   72   81   90 \n",
      "  10   10   20   30   40   50   60   70   80   90  100 \n"
     ]
    }
   ],
   "source": [
    "X = 1\n",
    "Y = 1\n",
    "print('{:>4}'.format(' '), end = ' ')\n",
    "for X in range(1,11):\n",
    "    print('{:>4}'.format(X), end = ' ')\n",
    "print()\n",
    "for X in range(1,11):\n",
    "    print('{:>4}'.format(X), end = ' ')\n",
    "    while Y <= 10:\n",
    "        print('{:>4}'.format(X * Y), end = ' ')\n",
    "        Y += 1\n",
    "    print()\n",
    "    Y=1\n"
   ]
  }
 ],
 "metadata": {
  "kernelspec": {
   "display_name": "Python 3",
   "language": "python",
   "name": "python3"
  },
  "language_info": {
   "codemirror_mode": {
    "name": "ipython",
    "version": 3
   },
   "file_extension": ".py",
   "mimetype": "text/x-python",
   "name": "python",
   "nbconvert_exporter": "python",
   "pygments_lexer": "ipython3",
   "version": "3.13.1"
  }
 },
 "nbformat": 4,
 "nbformat_minor": 2
}
