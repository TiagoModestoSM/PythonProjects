{
 "cells": [
  {
   "cell_type": "code",
   "execution_count": null,
   "metadata": {},
   "outputs": [],
   "source": [
    "print('Hello world!')\n",
    "import datetime"
   ]
  },
  {
   "cell_type": "code",
   "execution_count": null,
   "metadata": {},
   "outputs": [],
   "source": [
    "Var = 3 + 4\n",
    "print(Var)"
   ]
  },
  {
   "cell_type": "code",
   "execution_count": null,
   "metadata": {},
   "outputs": [],
   "source": [
    "Var *=4\n",
    "Var"
   ]
  },
  {
   "cell_type": "code",
   "execution_count": null,
   "metadata": {},
   "outputs": [],
   "source": [
    "#TESTE DE CONVERSÃO DE NÚMEROS INTEIROS\n",
    "\n",
    "Test = 0b100\n",
    "print('100 Binary', Test)\n",
    "Test = 0o100\n",
    "print('100 Octal', Test)\n",
    "Test = 100\n",
    "print('100 Decimal', Test)\n",
    "Test = 0x100\n",
    "print('100 Hexadecimal', Test)\n",
    "\n",
    "print(bin(Test))\n",
    "print(oct(Test))\n",
    "print(hex(Test))\n",
    "\n"
   ]
  },
  {
   "cell_type": "code",
   "execution_count": null,
   "metadata": {},
   "outputs": [],
   "source": [
    "print(ord(\"a\"))"
   ]
  },
  {
   "cell_type": "code",
   "execution_count": null,
   "metadata": {},
   "outputs": [],
   "source": [
    "def date_time():\n",
    "    print(str(datetime.datetime.now().date()))"
   ]
  },
  {
   "cell_type": "code",
   "execution_count": null,
   "metadata": {},
   "outputs": [],
   "source": [
    "#TEMPO RESTANTE\n",
    "from datetime import timedelta\n",
    "delta = timedelta(\n",
    "    days=50,\n",
    "    seconds=27,\n",
    "    microseconds=10,\n",
    "    milliseconds=29000,\n",
    "    minutes=5,\n",
    "    hours=8,\n",
    "    weeks=2\n",
    ")\n",
    "delta\n"
   ]
  },
  {
   "cell_type": "code",
   "execution_count": null,
   "metadata": {},
   "outputs": [],
   "source": [
    "#TESTE DE NÚMEROS COMPLEXOS\n",
    "myComplex = 3 + 4j\n",
    "print(myComplex.real)\n",
    "print(myComplex.imag)"
   ]
  },
  {
   "cell_type": "code",
   "execution_count": null,
   "metadata": {},
   "outputs": [
    {
     "name": "stdout",
     "output_type": "stream",
     "text": [
      "Hoje é dia 6/3/2025 e faltam 122 dias para seu aniversário que será dia 6/7/2025\n"
     ]
    }
   ],
   "source": [
    "#FALTAM QUANTOS DIAS PARA SEU ANIVERSÁRIO??\n",
    "\n",
    "import time\n",
    "from datetime import date\n",
    "\n",
    "hoje = date.today()\n",
    "hoje == date.fromtimestamp(time.time())\n",
    "\n",
    "meu_aniversário = date(hoje.year, 7, 6)\n",
    "\n",
    "if meu_aniversário < hoje:\n",
    "    meu_aniversário = meu_aniversário.replace(year = hoje.year+1)\n",
    "meu_aniversário\n",
    "\n",
    "tempo_até_aniversário = (meu_aniversário - hoje)\n",
    "\n",
    "days = 'dias' if tempo_até_aniversário.days > 1 else 'dia'\n",
    "\n",
    "print(f'Hoje é dia {hoje.day}/{hoje.month}/{hoje.year} e faltam {tempo_até_aniversário.days} {days} para seu aniversário que será dia {meu_aniversário.day}/{meu_aniversário.month}/{meu_aniversário.year}')"
   ]
  },
  {
   "cell_type": "code",
   "execution_count": 100,
   "metadata": {},
   "outputs": [
    {
     "name": "stdout",
     "output_type": "stream",
     "text": [
      "-0b1\n",
      "-1\n"
     ]
    }
   ],
   "source": [
    "Test = ~0b0\n",
    "print(bin(Test))\n",
    "print(Test)"
   ]
  }
 ],
 "metadata": {
  "kernelspec": {
   "display_name": "Python 3",
   "language": "python",
   "name": "python3"
  },
  "language_info": {
   "codemirror_mode": {
    "name": "ipython",
    "version": 3
   },
   "file_extension": ".py",
   "mimetype": "text/x-python",
   "name": "python",
   "nbconvert_exporter": "python",
   "pygments_lexer": "ipython3",
   "version": "3.13.1"
  }
 },
 "nbformat": 4,
 "nbformat_minor": 2
}
